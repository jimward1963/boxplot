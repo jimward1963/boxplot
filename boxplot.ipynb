{
 "cells": [
  {
   "cell_type": "markdown",
   "metadata": {
    "collapsed": true
   },
   "source": [
    "# An exploration of boxplot\n",
    "\n",
    "## History\n",
    "Boxplot was first introduced by [John Tukey](https://en.wikipedia.org/wiki/John_Tukey) in his book Exploratory Data Analysis (1977).\n",
    "\n",
    "It is useful for visualising data distributions from multiple groups. Boxplot captures the summary of the data efficiently with a simple box and whiskers, and allows comparison across groups.\n",
    "\n",
    "## Situations it is useful\n",
    "As mentioned, boxplot is particularly useful for comparing distributions across groups. \n",
    "It uses robust summary statistics that are always located at actual data points, are quickly computable and, although it might display less detail than a histogram or kernel density, it also takes up less space. It is therefore more compact.\n",
    "\n",
    "## A demonstration\n",
    "I have chosen to demonstrate the efficacy of the boxplot using the [anscombe](https://en.wikipedia.org/wiki/Anscombe%27s_quartet) data set. The reason being that this data set has the same summary statistics for different plots and also because the last plot has an outlier that will be interesting to see if the boxplot picks up."
   ]
  },
  {
   "cell_type": "code",
   "execution_count": 1,
   "metadata": {
    "collapsed": true
   },
   "outputs": [],
   "source": [
    "# import the packages\n",
    "import matplotlib.pyplot as plt\n",
    "import numpy as np\n",
    "import pandas as pd\n",
    "%matplotlib inline"
   ]
  },
  {
   "cell_type": "code",
   "execution_count": 2,
   "metadata": {
    "collapsed": true
   },
   "outputs": [],
   "source": [
    "# read the anscombe data\n",
    "data = pd.read_csv(\"https://raw.githubusercontent.com/vincentarelbundock/Rdatasets/master/csv/datasets/anscombe.csv\")"
   ]
  },
  {
   "cell_type": "code",
   "execution_count": 3,
   "metadata": {},
   "outputs": [
    {
     "data": {
      "image/png": "[encoded data removed]",
      "text/plain": [
       "<matplotlib.figure.Figure at 0x2ae48062240>"
      ]
     },
     "metadata": {},
     "output_type": "display_data"
    }
   ],
   "source": [
    "# make a boxplot\n",
    "plt.boxplot(data)\n",
    "plt.show()"
   ]
  },
  {
   "cell_type": "markdown",
   "metadata": {},
   "source": [
    "The above boxplot includes the summary statistics of the anscombe data set.\n",
    "\n",
    " - The median lines are given as the brown lines in the boxes\n",
    " - The ends of the boxes show the upper and lower quartiles\n",
    " - The extremes (whiskers) show the highest and lowest values, excluding outliers\n",
    " - Boxplot hide the number of values existing behind the variable\n",
    " - Outliers are shown as the circles"
   ]
  },
  {
   "cell_type": "markdown",
   "metadata": {},
   "source": [
    "## Explanation of terms\n",
    "Boxplot is made up of five components;\n",
    "\n",
    " - **Median** refers to average points such as central tendency or Mean\n",
    " - **Quartile** refers to the data split into 4 equal parts (Upper and Lower fourths are the hinges in the plot)\n",
    " - **Percentiles** of the distribution are the 99 points that split the data set into 100 equal parts\n",
    " - Two **Whiskers** that connect the hinges to the frames\n",
    " - (Potential) **Outliers** are points of the data set that are further away from the Median than the extremes"
   ]
  },
  {
   "cell_type": "markdown",
   "metadata": {},
   "source": [
    "## Boxplot compared to alternatives\n",
    "Boxplots display less detail than the [histogram](https://en.wikipedia.org/wiki/Histogram) or [kernel density](https://en.wikipedia.org/wiki/Kernel_density_estimation), but they also take up less space. \n",
    "They are useful in comparing distributions across groups. A [violin plot](https://en.wikipedia.org/wiki/Violin_plot) plots all useful information such as the distribution of sample data but boxplots show data points outside 1.5 of the inter-quartile range as outliers above or below the whiskers. \n",
    "Violin plots show the whole range of data."
   ]
  },
  {
   "cell_type": "markdown",
   "metadata": {},
   "source": [
    "## End"
   ]
  }
 ],
 "metadata": {
  "kernelspec": {
   "display_name": "Python 3",
   "language": "python",
   "name": "python3"
  },
  "language_info": {
   "codemirror_mode": {
    "name": "ipython",
    "version": 3
   },
   "file_extension": ".py",
   "mimetype": "text/x-python",
   "name": "python",
   "nbconvert_exporter": "python",
   "pygments_lexer": "ipython3",
   "version": "3.6.3"
  }
 },
 "nbformat": 4,
 "nbformat_minor": 2
}
